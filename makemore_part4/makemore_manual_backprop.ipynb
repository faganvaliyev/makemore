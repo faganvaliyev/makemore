{
  "cells": [
    {
      "cell_type": "code",
      "execution_count": 1,
      "metadata": {
        "id": "t0rMzh3RDfJy"
      },
      "outputs": [],
      "source": [
        "import torch\n",
        "import torch.nn.functional as F\n",
        "import matplotlib.pyplot as plt\n",
        "%matplotlib inline"
      ]
    },
    {
      "cell_type": "code",
      "execution_count": null,
      "metadata": {
        "colab": {
          "base_uri": "https://localhost:8080/"
        },
        "id": "ttusUP9wDfJ0",
        "outputId": "9f535cbf-9e32-4b58-ee4d-ea7bbef42297"
      },
      "outputs": [
        {
          "data": {
            "text/plain": [
              "['zyell', 'zyheem', 'zykeem', 'zylas', 'zyran', 'zyrie', 'zyron', 'zzyzx']"
            ]
          },
          "execution_count": 2,
          "metadata": {},
          "output_type": "execute_result"
        }
      ],
      "source": [
        "# read all the words\n",
        "file_path = r'C:\\Users\\User\\OneDrive\\Desktop\\all_in_one\\build_makemore\\names.txt'\n",
        "words = open(file_path).read().splitlines()\n",
        "words[-8:]"
      ]
    },
    {
      "cell_type": "code",
      "execution_count": 3,
      "metadata": {
        "colab": {
          "base_uri": "https://localhost:8080/"
        },
        "id": "yTTudbBADfJ3",
        "outputId": "6fa837ab-4a28-410e-aad2-e772fb1c1e74"
      },
      "outputs": [
        {
          "name": "stdout",
          "output_type": "stream",
          "text": [
            "{1: 'a', 2: 'b', 3: 'c', 4: 'd', 5: 'e', 6: 'f', 7: 'g', 8: 'h', 9: 'i', 10: 'j', 11: 'k', 12: 'l', 13: 'm', 14: 'n', 15: 'o', 16: 'p', 17: 'q', 18: 'r', 19: 's', 20: 't', 21: 'u', 22: 'v', 23: 'w', 24: 'x', 25: 'y', 26: 'z', 0: '.'}\n",
            "27\n"
          ]
        }
      ],
      "source": [
        "# build the vocabulary of characters and mapping ro/from integers\n",
        "chars = sorted(list(set(''.join(words))))\n",
        "stoi = {s:i+1 for i,s in enumerate(chars)}\n",
        "stoi['.'] = 0\n",
        "itos = {i:s for s,i in stoi.items()}\n",
        "vocab_size = len(itos)\n",
        "print(itos)\n",
        "print(vocab_size)"
      ]
    },
    {
      "cell_type": "code",
      "execution_count": 4,
      "metadata": {
        "colab": {
          "base_uri": "https://localhost:8080/"
        },
        "id": "ehz74DeADfJ4",
        "outputId": "fc390759-d679-41ef-c397-8098b66dfbc7"
      },
      "outputs": [
        {
          "name": "stdout",
          "output_type": "stream",
          "text": [
            "torch.Size([182625, 3]) torch.Size([182625])\n",
            "torch.Size([22655, 3]) torch.Size([22655])\n",
            "torch.Size([22866, 3]) torch.Size([22866])\n"
          ]
        }
      ],
      "source": [
        "# build dataset\n",
        "block_size = 3\n",
        "\n",
        "def build_dataset(words):\n",
        "    X, Y = [], []\n",
        "\n",
        "    for w in words:\n",
        "        context = [0] * block_size\n",
        "        for ch in w + '.':\n",
        "            ix = stoi[ch]\n",
        "            X.append(context)\n",
        "            Y.append(ix)\n",
        "            context = context[1:] + [ix] # crop and append\n",
        "\n",
        "    X = torch.tensor(X)\n",
        "    Y = torch.tensor(Y)\n",
        "    print(X.shape, Y.shape)\n",
        "    return X, Y\n",
        "\n",
        "import random\n",
        "random.seed(42)\n",
        "random.shuffle(words)\n",
        "n1 = int(0.8*len(words))\n",
        "n2 = int(0.9*len(words))\n",
        "\n",
        "Xtr, Ytr = build_dataset(words[:n1])\n",
        "Xdev, Ydev = build_dataset(words[n1:n2])\n",
        "Xtest, Ytest = build_dataset(words[n2:])"
      ]
    },
    {
      "cell_type": "code",
      "execution_count": 5,
      "metadata": {
        "id": "UGHMCCjJDfJ6"
      },
      "outputs": [],
      "source": [
        "# utlity function to compare manuel gradient to PyTorch gradients\n",
        "def cmp(s, dt, t):\n",
        "    ex = torch.all(dt == t.grad).item()\n",
        "    app = torch.allclose(dt, t.grad)\n",
        "    maxdiff = (dt - t.grad).abs().max().item()\n",
        "    print(f'{s:15s} | exact: {str(ex):5s} | approximate: {str(app):5s} | maxdiff: {maxdiff}')"
      ]
    },
    {
      "cell_type": "code",
      "execution_count": 6,
      "metadata": {
        "colab": {
          "base_uri": "https://localhost:8080/"
        },
        "id": "nUdlYYm1DfJ6",
        "outputId": "8b15dba0-ba7d-4872-96d1-726a41f2ac15"
      },
      "outputs": [
        {
          "name": "stdout",
          "output_type": "stream",
          "text": [
            "4137\n"
          ]
        }
      ],
      "source": [
        "n_embd = 10 # the dimensionality of the character  embedding vector\n",
        "n_hidden = 64 # the number of neurons in one hidden layer of MLP\n",
        "\n",
        "g = torch.Generator().manual_seed(126372837)\n",
        "C = torch.randn((vocab_size, n_embd), generator=g)\n",
        "# Layer 1\n",
        "W1 = torch.randn((n_embd * block_size, n_hidden), generator=g) * (5/3) / ((vocab_size * n_embd)**0.5)\n",
        "b1 = torch.randn(n_hidden, generator=g) * 0.1 # using b1 just for fun, it's useless because of BN\n",
        "# Layer 2\n",
        "W2 = torch.randn(n_hidden, vocab_size, generator=g) * 0.1\n",
        "b2 = torch.randn(vocab_size, generator=g) * 0.1\n",
        "# BatchNorm paramaters\n",
        "bngain = torch.randn((1, n_hidden)) * 0.1 + 1\n",
        "bnbias = torch.randn((1, n_hidden)) * 0.1\n",
        "\n",
        "# Note: I am initializating many of these parameters in non-standard ways because sometimes\n",
        "# initializating with e.g. all zeros could mask an incorrect implementation of the backward pass.\n",
        "\n",
        "parameters = [C, W1, b1, W2, b2, bngain, bnbias]\n",
        "print(sum(p.nelement() for p in parameters))\n",
        "for p in parameters:\n",
        "    p.requires_grad = True"
      ]
    },
    {
      "cell_type": "code",
      "execution_count": 7,
      "metadata": {
        "id": "Em6FRiffDfJ7"
      },
      "outputs": [],
      "source": [
        "batch_size = 64\n",
        "n = batch_size # shorter variable also, for convenince\n",
        "# minibatch\n",
        "ix = torch.randint(0, Xtr.shape[0],(batch_size,), generator=g)\n",
        "Xb, Yb = Xtr[ix], Ytr[ix] # batch X, Y"
      ]
    },
    {
      "cell_type": "code",
      "execution_count": 8,
      "metadata": {
        "colab": {
          "base_uri": "https://localhost:8080/"
        },
        "id": "_0eeyfRXDfJ8",
        "outputId": "24dba4ac-29a8-465f-fccf-e8d5feb7cde6"
      },
      "outputs": [
        {
          "data": {
            "text/plain": [
              "tensor(3.3917, grad_fn=<NegBackward0>)"
            ]
          },
          "execution_count": 8,
          "metadata": {},
          "output_type": "execute_result"
        }
      ],
      "source": [
        "#forwars pass, \"chunkated\" into smaller steps that are possible to backward one at a time\n",
        "emb = C[Xb]\n",
        "embcat = emb.view(emb.shape[0], -1)\n",
        "#Linear layer 1\n",
        "hprebn = embcat @ W1 + b1 # hidden layer pre-activation\n",
        "# BatchNorm Layer\n",
        "bnmeani = 1/n*hprebn.sum(0, keepdims=True)\n",
        "bndiff = hprebn - bnmeani\n",
        "bndiff2 = bndiff**2\n",
        "bnvar = 1/(n-1) * bndiff2.sum(0, keepdims=True) # note: Bessel's correction (dividing by n-1, not n)\n",
        "bnvar_inv = (bnvar + 1e-5)**-0.5\n",
        "bnraw = bndiff * bnvar_inv\n",
        "hpreact = bngain * bnraw + bnbias\n",
        "# Non-linearity\n",
        "h = torch.tanh(hpreact)\n",
        "# Linear layer 2\n",
        "logits = h @ W2 + b2 # output layer\n",
        "# cross entropy loss (same as F.cross_entropy(logits, Yb))\n",
        "logits_max = logits.max(1, keepdim=True).values\n",
        "norm_logits = logits - logits_max\n",
        "counts = norm_logits.exp()\n",
        "counts_sum = counts.sum(1, keepdim=True)\n",
        "counts_sum_inv = counts_sum **-1\n",
        "probs = counts * counts_sum_inv\n",
        "logprobs = probs.log()\n",
        "loss = - logprobs[range(n), Yb].mean()\n",
        "\n",
        "# PyTorch backward pass\n",
        "for p in parameters:\n",
        "  p.grad = None\n",
        "for t in [logprobs, probs, counts, counts_sum, counts_sum_inv, # afaik there is no cleaner way\n",
        "          norm_logits, logits_max, logits, h, hpreact, bnraw,\n",
        "         bnvar_inv, bnvar, bndiff2, bndiff, hprebn, bnmeani,\n",
        "         embcat, emb]:\n",
        "  t.retain_grad()\n",
        "loss.backward()\n",
        "loss"
      ]
    },
    {
      "cell_type": "code",
      "execution_count": 9,
      "metadata": {
        "colab": {
          "base_uri": "https://localhost:8080/"
        },
        "id": "YW1QhrR2DfJ9",
        "outputId": "d5bd14c9-197f-4e60-ef81-d980b7ab29d7"
      },
      "outputs": [
        {
          "name": "stdout",
          "output_type": "stream",
          "text": [
            "logprobs        | exact: True  | approximate: True  | maxdiff: 0.0\n",
            "probs           | exact: True  | approximate: True  | maxdiff: 0.0\n",
            "counts_sum_inv  | exact: True  | approximate: True  | maxdiff: 0.0\n",
            "counts_sum      | exact: True  | approximate: True  | maxdiff: 0.0\n",
            "counts          | exact: True  | approximate: True  | maxdiff: 0.0\n",
            "norm_logits     | exact: True  | approximate: True  | maxdiff: 0.0\n",
            "logit_maxes     | exact: True  | approximate: True  | maxdiff: 0.0\n",
            "logits          | exact: True  | approximate: True  | maxdiff: 0.0\n",
            "h               | exact: True  | approximate: True  | maxdiff: 0.0\n",
            "W2              | exact: True  | approximate: True  | maxdiff: 0.0\n",
            "b2              | exact: True  | approximate: True  | maxdiff: 0.0\n",
            "hpreact         | exact: False | approximate: True  | maxdiff: 2.3283064365386963e-10\n",
            "bngain          | exact: False | approximate: True  | maxdiff: 1.1641532182693481e-09\n",
            "bnbias          | exact: False | approximate: True  | maxdiff: 3.725290298461914e-09\n",
            "bnraw           | exact: False | approximate: True  | maxdiff: 4.656612873077393e-10\n",
            "bnvar_inv       | exact: False | approximate: True  | maxdiff: 4.656612873077393e-10\n",
            "bnvar           | exact: False | approximate: True  | maxdiff: 7.450580596923828e-09\n",
            "bndiff2         | exact: False | approximate: True  | maxdiff: 1.1641532182693481e-10\n",
            "bndiff          | exact: False | approximate: True  | maxdiff: 1.862645149230957e-09\n",
            "bnmeani         | exact: False | approximate: True  | maxdiff: 7.450580596923828e-09\n",
            "hprebn          | exact: False | approximate: True  | maxdiff: 1.862645149230957e-09\n",
            "embcat          | exact: False | approximate: True  | maxdiff: 1.1641532182693481e-09\n",
            "W1              | exact: False | approximate: True  | maxdiff: 7.450580596923828e-09\n",
            "b1              | exact: False | approximate: False | maxdiff: 1.1641532182693481e-08\n",
            "emb             | exact: False | approximate: True  | maxdiff: 1.1641532182693481e-09\n",
            "C               | exact: False | approximate: True  | maxdiff: 3.725290298461914e-09\n"
          ]
        }
      ],
      "source": [
        "dlogprobs = torch.zeros_like(logprobs)\n",
        "dlogprobs[range(n), Yb] = -1.0/n\n",
        "dprobs = (1.0 / probs) * dlogprobs\n",
        "dcounts_sum_inv = (counts * dprobs).sum(1, keepdim=True)\n",
        "dcounts = counts_sum_inv * dprobs\n",
        "dcounts_sum = (-counts_sum**-2) * dcounts_sum_inv\n",
        "dcounts += torch.ones_like(counts) * dcounts_sum\n",
        "dnorm_logits = counts * dcounts\n",
        "dlogits = dnorm_logits.clone()\n",
        "dlogit_maxes = (-dnorm_logits).sum(1, keepdim=True)\n",
        "dlogits += F.one_hot(logits.max(1).indices, num_classes=logits.shape[1]) * dlogit_maxes\n",
        "dh = dlogits @ W2.T\n",
        "dW2 = h.T @ dlogits\n",
        "db2 = dlogits.sum(0)\n",
        "dhpreact = (1.0 - h**2) * dh\n",
        "dbngain = (bnraw * dhpreact).sum(0, keepdim=True)\n",
        "dbnraw = bngain * dhpreact\n",
        "dbnbias = dhpreact.sum(0, keepdim=True)\n",
        "dbndiff = bnvar_inv * dbnraw\n",
        "dbnvar_inv = (bndiff * dbnraw).sum(0, keepdim=True)\n",
        "dbnvar = (-0.5*(bnvar + 1e-5)**-1.5) * dbnvar_inv\n",
        "dbndiff2 = (1.0/(n-1))*torch.ones_like(bndiff2) * dbnvar\n",
        "dbndiff += (2*bndiff) * dbndiff2\n",
        "dhprebn = dbndiff.clone()\n",
        "dbnmeani = (-dbndiff).sum(0)\n",
        "dhprebn += 1.0/n * (torch.ones_like(hprebn) * dbnmeani)\n",
        "dembcat = dhprebn @ W1.T\n",
        "dW1 = embcat.T @ dhprebn\n",
        "db1 = dhprebn.sum(0)\n",
        "demb = dembcat.view(emb.shape)\n",
        "dC = torch.zeros_like(C)\n",
        "for k in range(Xb.shape[0]):\n",
        "  for j in range(Xb.shape[1]):\n",
        "    ix = Xb[k,j]\n",
        "    dC[ix] += demb[k,j]\n",
        "\n",
        "cmp('logprobs', dlogprobs, logprobs)\n",
        "cmp('probs', dprobs, probs)\n",
        "cmp('counts_sum_inv', dcounts_sum_inv, counts_sum_inv)\n",
        "cmp('counts_sum', dcounts_sum, counts_sum)\n",
        "cmp('counts', dcounts, counts)\n",
        "cmp('norm_logits', dnorm_logits, norm_logits)\n",
        "cmp('logit_maxes', dlogit_maxes, logits_max)\n",
        "cmp('logits', dlogits, logits)\n",
        "cmp('h', dh, h)\n",
        "cmp('W2', dW2, W2)\n",
        "cmp('b2', db2, b2)\n",
        "cmp('hpreact', dhpreact, hpreact)\n",
        "cmp('bngain', dbngain, bngain)\n",
        "cmp('bnbias', dbnbias, bnbias)\n",
        "cmp('bnraw', dbnraw, bnraw)\n",
        "cmp('bnvar_inv', dbnvar_inv, bnvar_inv)\n",
        "cmp('bnvar', dbnvar, bnvar)\n",
        "cmp('bndiff2', dbndiff2, bndiff2)\n",
        "cmp('bndiff', dbndiff, bndiff)\n",
        "cmp('bnmeani', dbnmeani, bnmeani)\n",
        "cmp('hprebn', dhprebn, hprebn)\n",
        "cmp('embcat', dembcat, embcat)\n",
        "cmp('W1', dW1, W1)\n",
        "cmp('b1', db1, b1)\n",
        "cmp('emb', demb, emb)\n",
        "cmp('C', dC, C)"
      ]
    },
    {
      "cell_type": "code",
      "execution_count": 10,
      "metadata": {
        "colab": {
          "base_uri": "https://localhost:8080/"
        },
        "id": "8RL_xwpWDfJ-",
        "outputId": "50bf3ecc-12ba-42e3-e7bf-5a18b506dd83"
      },
      "outputs": [
        {
          "name": "stdout",
          "output_type": "stream",
          "text": [
            "3.391657829284668 diff: 2.384185791015625e-07\n"
          ]
        }
      ],
      "source": [
        "# forward pass\n",
        "\n",
        "# before:\n",
        "# logit_maxes = logits.max(1, keepdim=True).values\n",
        "# norm_logits = logits - logit_maxes # subtract max for numerical stability\n",
        "# counts = norm_logits.exp()\n",
        "# counts_sum = counts.sum(1, keepdims=True)\n",
        "# counts_sum_inv = counts_sum**-1 # if I use (1.0 / counts_sum) instead then I can't get backprop to be bit exact...\n",
        "# probs = counts * counts_sum_inv\n",
        "# logprobs = probs.log()\n",
        "# loss = -logprobs[range(n), Yb].mean()\n",
        "\n",
        "\n",
        "# now\n",
        "lost_fast = F.cross_entropy(logits,Yb)\n",
        "print(lost_fast.item(), 'diff:', (lost_fast-loss).item())"
      ]
    },
    {
      "cell_type": "code",
      "execution_count": 11,
      "metadata": {
        "colab": {
          "base_uri": "https://localhost:8080/"
        },
        "id": "OYEvuQdxDfJ_",
        "outputId": "1e4d6382-186e-4eae-d489-352818b3e14b"
      },
      "outputs": [
        {
          "name": "stdout",
          "output_type": "stream",
          "text": [
            "logits          | exact: False | approximate: True  | maxdiff: 4.307366907596588e-09\n"
          ]
        }
      ],
      "source": [
        "# backward pass\n",
        "dlogits = F.softmax(logits, 1)\n",
        "dlogits[range(n), Yb] -= 1\n",
        "dlogits /= n\n",
        "\n",
        "cmp('logits', dlogits, logits)"
      ]
    },
    {
      "cell_type": "code",
      "execution_count": 12,
      "metadata": {
        "colab": {
          "base_uri": "https://localhost:8080/"
        },
        "id": "WA7MVbgLDfKA",
        "outputId": "0e28d849-504e-4076-8dff-58a9e09f2dc7"
      },
      "outputs": [
        {
          "data": {
            "text/plain": [
              "(torch.Size([64, 27]), torch.Size([64]))"
            ]
          },
          "execution_count": 12,
          "metadata": {},
          "output_type": "execute_result"
        }
      ],
      "source": [
        "logits.shape, Yb.shape"
      ]
    },
    {
      "cell_type": "code",
      "execution_count": 13,
      "metadata": {
        "colab": {
          "base_uri": "https://localhost:8080/"
        },
        "id": "G7q_4ie0DfKA",
        "outputId": "edcb5211-0f76-49c6-810d-418177f594e7"
      },
      "outputs": [
        {
          "data": {
            "text/plain": [
              "tensor([0.0982, 0.0623, 0.0255, 0.0265, 0.0118, 0.0410, 0.0141, 0.0257, 0.0816,\n",
              "        0.0150, 0.0441, 0.0391, 0.0189, 0.0307, 0.0433, 0.0452, 0.0195, 0.0146,\n",
              "        0.0189, 0.0577, 0.0134, 0.0221, 0.0379, 0.0914, 0.0203, 0.0450, 0.0361],\n",
              "       grad_fn=<SelectBackward0>)"
            ]
          },
          "execution_count": 13,
          "metadata": {},
          "output_type": "execute_result"
        }
      ],
      "source": [
        "F.softmax(logits, 1)[0]"
      ]
    },
    {
      "cell_type": "code",
      "execution_count": 14,
      "metadata": {
        "colab": {
          "base_uri": "https://localhost:8080/"
        },
        "id": "O1PxGMIqDfKA",
        "outputId": "b59a1fb6-ecff-460e-e1ec-e6afe0dfa95e"
      },
      "outputs": [
        {
          "data": {
            "text/plain": [
              "tensor([ 0.0982,  0.0623,  0.0255,  0.0265,  0.0118,  0.0410,  0.0141,  0.0257,\n",
              "         0.0816,  0.0150,  0.0441,  0.0391, -0.9811,  0.0307,  0.0433,  0.0452,\n",
              "         0.0195,  0.0146,  0.0189,  0.0577,  0.0134,  0.0221,  0.0379,  0.0914,\n",
              "         0.0203,  0.0450,  0.0361], grad_fn=<MulBackward0>)"
            ]
          },
          "execution_count": 14,
          "metadata": {},
          "output_type": "execute_result"
        }
      ],
      "source": [
        "dlogits[0] * n"
      ]
    },
    {
      "cell_type": "code",
      "execution_count": 15,
      "metadata": {
        "colab": {
          "base_uri": "https://localhost:8080/"
        },
        "id": "lODa50moDfKB",
        "outputId": "787f477f-c054-4e5b-9ca1-d65933ebbcfc"
      },
      "outputs": [
        {
          "data": {
            "text/plain": [
              "tensor(-6.9849e-10, grad_fn=<SumBackward0>)"
            ]
          },
          "execution_count": 15,
          "metadata": {},
          "output_type": "execute_result"
        }
      ],
      "source": [
        "dlogits[0].sum()"
      ]
    },
    {
      "cell_type": "code",
      "execution_count": 16,
      "metadata": {
        "colab": {
          "base_uri": "https://localhost:8080/",
          "height": 677
        },
        "id": "Exgi4ikaDfKB",
        "outputId": "1ae3d2d2-23c7-405b-fd5e-d20526317dd3"
      },
      "outputs": [
        {
          "data": {
            "image/png": "[encoded data removed]",
            "text/plain": [
              "<Figure size 400x800 with 1 Axes>"
            ]
          },
          "metadata": {},
          "output_type": "display_data"
        }
      ],
      "source": [
        "plt.figure(figsize=(4, 8))\n",
        "plt.imshow(dlogits.detach(), cmap='gray');"
      ]
    },
    {
      "cell_type": "code",
      "execution_count": 17,
      "metadata": {
        "colab": {
          "base_uri": "https://localhost:8080/"
        },
        "id": "NMRq37AKDfKB",
        "outputId": "34e80a6e-f28e-4029-b218-c39f160ae566"
      },
      "outputs": [
        {
          "name": "stdout",
          "output_type": "stream",
          "text": [
            "max diff: tensor(4.7684e-07, grad_fn=<MaxBackward1>)\n"
          ]
        }
      ],
      "source": [
        "# forward pass\n",
        "\n",
        "# before:\n",
        "# bnmeani = 1/n*hprebn.sum(0, keepdim=True)\n",
        "# bndiff = hprebn - bnmeani\n",
        "# bndiff2 = bndiff**2\n",
        "# bnvar = 1/(n-1)*(bndiff2).sum(0, keepdim=True) # note: Bessel's correction (dividing by n-1, not n)\n",
        "# bnvar_inv = (bnvar + 1e-5)**-0.5\n",
        "# bnraw = bndiff * bnvar_inv\n",
        "# hpreact = bngain * bnraw + bnbias\n",
        "\n",
        "# now:\n",
        "hpreact_fast = bngain * (hprebn - hprebn.mean(0, keepdim=True)) / torch.sqrt(hprebn.var(0, keepdim=True, unbiased=True) + 1e-5) + bnbias\n",
        "print('max diff:', (hpreact_fast - hpreact).abs().max())"
      ]
    },
    {
      "cell_type": "code",
      "execution_count": 18,
      "metadata": {
        "colab": {
          "base_uri": "https://localhost:8080/"
        },
        "id": "xuEDT0vwDfKC",
        "outputId": "af6b41dc-4259-4320-e834-103282109e9c"
      },
      "outputs": [
        {
          "name": "stdout",
          "output_type": "stream",
          "text": [
            "hprebn          | exact: False | approximate: True  | maxdiff: 1.862645149230957e-09\n"
          ]
        }
      ],
      "source": [
        "# before we had:\n",
        "# dbnraw = bngain * dhpreact\n",
        "# dbndiff = bnvar_inv * dbnraw\n",
        "# dbnvar_inv = (bndiff * dbnraw).sum(0, keepdim=True)\n",
        "# dbnvar = (-0.5*(bnvar + 1e-5)**-1.5) * dbnvar_inv\n",
        "# dbndiff2 = (1.0/(n-1))*torch.ones_like(bndiff2) * dbnvar\n",
        "# dbndiff += (2*bndiff) * dbndiff2\n",
        "# dhprebn = dbndiff.clone()\n",
        "# dbnmeani = (-dbndiff).sum(0)\n",
        "# dhprebn += 1.0/n * (torch.ones_like(hprebn) * dbnmeani)\n",
        "\n",
        "# calculate dhprebn given dhpreact (i.e. backprop through the batchnorm)\n",
        "# (you'll also need to use some of the variables from the forward pass up above)\n",
        "\n",
        "dhprebn = bngain*bnvar_inv/n * (n*dhpreact - dhpreact.sum(0) - n/(n-1)*bnraw*(dhpreact*bnraw).sum(0))\n",
        "\n",
        "cmp('hprebn', dhprebn, hprebn) # I can only get approximate to be true, my maxdiff is 9e-10"
      ]
    },
    {
      "cell_type": "code",
      "execution_count": 19,
      "metadata": {
        "colab": {
          "base_uri": "https://localhost:8080/"
        },
        "id": "NUBB1qMTDfKC",
        "outputId": "a946ddde-f46f-42bf-d1bf-2d6854c364eb"
      },
      "outputs": [
        {
          "data": {
            "text/plain": [
              "(torch.Size([64, 64]),\n",
              " torch.Size([1, 64]),\n",
              " torch.Size([1, 64]),\n",
              " torch.Size([64, 64]),\n",
              " torch.Size([64]))"
            ]
          },
          "execution_count": 19,
          "metadata": {},
          "output_type": "execute_result"
        }
      ],
      "source": [
        "dhprebn.shape, bngain.shape, bnvar_inv.shape, dbnraw.shape, dbnraw.sum(0).shape"
      ]
    },
    {
      "cell_type": "code",
      "execution_count": 20,
      "metadata": {
        "colab": {
          "base_uri": "https://localhost:8080/"
        },
        "id": "6nQRtPm7DfKC",
        "outputId": "91d4fe82-0691-419e-f1ab-9b75459aac7c"
      },
      "outputs": [
        {
          "name": "stdout",
          "output_type": "stream",
          "text": [
            "12297\n",
            "      0/ 300000: 3.7574\n",
            "  10000/ 300000: 2.1278\n",
            "  20000/ 300000: 2.2110\n",
            "  30000/ 300000: 2.3805\n",
            "  40000/ 300000: 2.3481\n",
            "  50000/ 300000: 2.5489\n",
            "  60000/ 300000: 2.5013\n",
            "  70000/ 300000: 2.4206\n",
            "  80000/ 300000: 2.0369\n",
            "  90000/ 300000: 2.5524\n",
            " 100000/ 300000: 2.3851\n",
            " 110000/ 300000: 2.2343\n",
            " 120000/ 300000: 2.4637\n",
            " 130000/ 300000: 2.2598\n",
            " 140000/ 300000: 2.3715\n",
            " 150000/ 300000: 2.2726\n",
            " 160000/ 300000: 2.4450\n",
            " 170000/ 300000: 2.2943\n",
            " 180000/ 300000: 2.2774\n",
            " 190000/ 300000: 2.4593\n",
            " 200000/ 300000: 2.5401\n",
            " 210000/ 300000: 2.1008\n",
            " 220000/ 300000: 2.3615\n",
            " 230000/ 300000: 2.0875\n",
            " 240000/ 300000: 2.3693\n",
            " 250000/ 300000: 2.4875\n",
            " 260000/ 300000: 2.2724\n",
            " 270000/ 300000: 2.2527\n",
            " 280000/ 300000: 2.2696\n",
            " 290000/ 300000: 2.3104\n"
          ]
        }
      ],
      "source": [
        "# putting all together\n",
        "\n",
        "n_embd = 10\n",
        "n_hidden = 200\n",
        "\n",
        "g = torch.Generator().manual_seed(123432482)\n",
        "C = torch.randn((vocab_size, n_embd), generator=g)\n",
        "# Layer 1\n",
        "W1 = torch.randn((n_embd * block_size, n_hidden), generator=g) * (5/3) / ((n_embd * block_size)**0.5)\n",
        "b1 = torch.randn(n_hidden, generator=g) * 0.1\n",
        "# Layer 2\n",
        "W2 = torch.randn(n_hidden, vocab_size, generator=g) * 0.1 + 1\n",
        "b2 = torch.randn(vocab_size, generator=g) * 0.1\n",
        "#BatchNorm\n",
        "bngain = torch.randn((1, n_hidden)) * 0.1 + 1.0\n",
        "bnbias = torch.randn((1, n_hidden)) * 0.1\n",
        "\n",
        "parameters = [C, W1, b1, W2, b2, bnbias, bngain]\n",
        "print(sum(p.nelement() for p in parameters))\n",
        "for p in parameters:\n",
        "    p.requires_grad = True\n",
        "\n",
        "max_steps = 300000\n",
        "batch_size = 64\n",
        "n = batch_size\n",
        "lossi = []\n",
        "\n",
        "with torch.no_grad():\n",
        "\n",
        "    for i in range(max_steps):\n",
        "\n",
        "        ix = torch.randint(0, Xtr.shape[0], (batch_size,), generator=g)\n",
        "        Xb, Yb = Xtr[ix], Ytr[ix]\n",
        "\n",
        "        # forward pass\n",
        "        emb = C[Xb]\n",
        "        embcat = emb.view(emb.shape[0], -1)\n",
        "        # Linear layer\n",
        "        hprebn = embcat @ W1 + b1\n",
        "        # BatchNorm Layer\n",
        "        bnmean = hprebn.mean(0, keepdim=True)\n",
        "        bnvar = hprebn.var(0, keepdim=True)\n",
        "        bnvar_inv = (bnvar + 1e-5) **-0.5\n",
        "        bnraw = (hprebn - bnmean) * bnvar_inv\n",
        "        hpreact = bngain * bnraw + bnbias\n",
        "        # Non-Linearity\n",
        "        h = torch.tanh(hpreact)\n",
        "        logits = h @ W2 + b2\n",
        "        loss = F.cross_entropy(logits, Yb) # loss function\n",
        "\n",
        "        #backward pass\n",
        "        for p in parameters:\n",
        "            p.grad = None\n",
        "        #loss.backward() # we do not this anymore\n",
        "\n",
        "        # manual backprop!\n",
        "        dlogits = F.softmax(logits, 1)\n",
        "        dlogits[range(n), Yb] -=1\n",
        "        dlogits /= n\n",
        "        # 2nd layer backprop\n",
        "        dh = dlogits @ W2.T\n",
        "        dW2 = h.T @ dlogits\n",
        "        db2 = dlogits.sum(0)\n",
        "        # tanh\n",
        "        dhpreact = (1.0 - h**2) * dh\n",
        "        # batchnorm backprop\n",
        "        dbngain = (bnraw * dhpreact).sum(0, keepdim=True)\n",
        "        dbnbias = dhpreact.sum(0, keepdim=True)\n",
        "        dhprebn = bngain*bnvar_inv/n * (n*dhpreact - dhpreact.sum(0) - n/(n-1)*bnraw*(dhpreact*bnraw).sum(0))\n",
        "        # 1st layer\n",
        "        dembcat = dhprebn @ W1.T\n",
        "        dW1 = embcat.T @ dhprebn\n",
        "        db1 = dhprebn.sum(0)\n",
        "        # embedding\n",
        "        demb = dembcat.view(emb.shape)\n",
        "        dC = torch.zeros_like(C)\n",
        "        for k in range(Xb.shape[0]):\n",
        "            for j in range(Xb.shape[1]):\n",
        "                ix = Xb[k,j]\n",
        "                dC[ix] += demb[k,j]\n",
        "        grads = [dC, dW1, db1, dW2, db2, dbngain, dbnbias]\n",
        "\n",
        "        #update\n",
        "        lr = 0.1 if i < 250000 else 0.05 if i < 300000 else 0.01 # step learning rate decay\n",
        "        for p, grad in zip(parameters, grads):\n",
        "            #p.data += -lr * p.grad # old way of cheems doge (using PyTorch grad from .backward())\n",
        "            p.data += -lr * grad\n",
        "\n",
        "        # track stats\n",
        "        if i % 10000 == 0: # print every once in a while\n",
        "            print(f'{i:7d}/{max_steps:7d}: {loss.item():.4f}')\n",
        "        lossi.append(loss.log10().item())"
      ]
    },
    {
      "cell_type": "code",
      "execution_count": 21,
      "metadata": {
        "id": "jquggN5SDfKD"
      },
      "outputs": [],
      "source": [
        "with torch.no_grad():\n",
        "  # pass the training set through\n",
        "  emb = C[Xtr]\n",
        "  embcat = emb.view(emb.shape[0], -1)\n",
        "  hpreact = embcat @ W1 + b1\n",
        "  # measure the mean/std over the entire training set\n",
        "  bnmean = hpreact.mean(0, keepdim=True)\n",
        "  bnvar = hpreact.var(0, keepdim=True, unbiased=True)"
      ]
    },
    {
      "cell_type": "code",
      "execution_count": 22,
      "metadata": {
        "colab": {
          "base_uri": "https://localhost:8080/"
        },
        "id": "TzbYAIc5DfKD",
        "outputId": "f82da962-595a-4ffc-9d0f-f2531365f7ed"
      },
      "outputs": [
        {
          "name": "stdout",
          "output_type": "stream",
          "text": [
            "train 2.2336275577545166\n",
            "val 2.2382757663726807\n"
          ]
        }
      ],
      "source": [
        "@torch.no_grad() # this decorator disables gradient tracking\n",
        "def split_loss(split):\n",
        "  x,y = {\n",
        "    'train': (Xtr, Ytr),\n",
        "    'val': (Xdev, Ydev),\n",
        "    'test': (Xtest, Ytest),\n",
        "  }[split]\n",
        "  emb = C[x] # (N, block_size, n_embd)\n",
        "  embcat = emb.view(emb.shape[0], -1) # concat into (N, block_size * n_embd)\n",
        "  hpreact = embcat @ W1 + b1\n",
        "  hpreact = bngain * (hpreact - bnmean) * (bnvar + 1e-5)**-0.5 + bnbias\n",
        "  h = torch.tanh(hpreact) # (N, n_hidden)\n",
        "  logits = h @ W2 + b2 # (N, vocab_size)\n",
        "  loss = F.cross_entropy(logits, y)\n",
        "  print(split, loss.item())\n",
        "\n",
        "split_loss('train')\n",
        "split_loss('val')"
      ]
    },
    {
      "cell_type": "code",
      "execution_count": 23,
      "metadata": {
        "colab": {
          "base_uri": "https://localhost:8080/"
        },
        "id": "JMBoMaZRDfKD",
        "outputId": "44bc72af-0219-4715-ff25-1d051e4a3d80"
      },
      "outputs": [
        {
          "name": "stdout",
          "output_type": "stream",
          "text": [
            "eria.\n",
            "kayah.\n",
            "seen.\n",
            "ndhayah.\n",
            "rethrshendraeg.\n",
            "adered.\n",
            "eliigh.\n",
            "porea.\n",
            "eden.\n",
            "estanar.\n",
            "kateivelka.\n",
            "cayshabergahirie.\n",
            "tan.\n",
            "jowellionno.\n",
            "adriu.\n",
            "zayven.\n",
            "jamell.\n",
            "ehs.\n",
            "kaysh.\n",
            "sanyan.\n"
          ]
        }
      ],
      "source": [
        "# sample from the model\n",
        "g = torch.Generator().manual_seed(2147483647 + 10)\n",
        "\n",
        "for _ in range(20):\n",
        "\n",
        "    out = []\n",
        "    context = [0] * block_size # initialize with all ...\n",
        "    while True:\n",
        "      # ------------\n",
        "      # forward pass:\n",
        "      # Embedding\n",
        "      emb = C[torch.tensor([context])] # (1,block_size,d)\n",
        "      embcat = emb.view(emb.shape[0], -1) # concat into (N, block_size * n_embd)\n",
        "      hpreact = embcat @ W1 + b1\n",
        "      hpreact = bngain * (hpreact - bnmean) * (bnvar + 1e-5)**-0.5 + bnbias\n",
        "      h = torch.tanh(hpreact) # (N, n_hidden)\n",
        "      logits = h @ W2 + b2 # (N, vocab_size)\n",
        "      # ------------\n",
        "      # Sample\n",
        "      probs = F.softmax(logits, dim=1)\n",
        "      ix = torch.multinomial(probs, num_samples=1, generator=g).item()\n",
        "      context = context[1:] + [ix]\n",
        "      out.append(ix)\n",
        "      if ix == 0:\n",
        "        break\n",
        "\n",
        "    print(''.join(itos[i] for i in out))"
      ]
    },
    {
      "cell_type": "code",
      "execution_count": null,
      "metadata": {
        "id": "B7un_D7dDfKD"
      },
      "outputs": [],
      "source": []
    }
  ],
  "metadata": {
    "accelerator": "GPU",
    "colab": {
      "gpuType": "T4",
      "provenance": []
    },
    "kernelspec": {
      "display_name": "myenv2",
      "language": "python",
      "name": "python3"
    },
    "language_info": {
      "codemirror_mode": {
        "name": "ipython",
        "version": 3
      },
      "file_extension": ".py",
      "mimetype": "text/x-python",
      "name": "python",
      "nbconvert_exporter": "python",
      "pygments_lexer": "ipython3",
      "version": "3.9.18"
    }
  },
  "nbformat": 4,
  "nbformat_minor": 0
}
